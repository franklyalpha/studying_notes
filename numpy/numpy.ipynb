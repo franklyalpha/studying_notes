{
 "cells": [
  {
   "cell_type": "markdown",
   "metadata": {},
   "source": [
    "Useful function for numpy: \n",
    "\n",
    "https://numpy.org/doc/stable/reference/index.html \n"
   ]
  },
  {
   "attachments": {},
   "cell_type": "markdown",
   "metadata": {},
   "source": [
    "<!-- # Quick Lookup\n",
    "\n",
    "This part is intended for including a list of functionalities numpy has for quick lookups.  -->"
   ]
  },
  {
   "attachments": {},
   "cell_type": "markdown",
   "metadata": {},
   "source": [
    "# Array Creation "
   ]
  },
  {
   "attachments": {},
   "cell_type": "markdown",
   "metadata": {},
   "source": [
    "### From array: "
   ]
  },
  {
   "attachments": {},
   "cell_type": "markdown",
   "metadata": {},
   "source": [
    "np.array([input array])\n",
    "\n",
    "np.zeros((row, col))\n",
    "\n",
    "np.eye(N=<font  color='green'>Rows of matrix</font>, M=<font  color='green'>number of columns; \"$N$\" by default</font>, k=<font  color='green'>diagonal shift; \"$k > 0$\" refers to upper diagonal</font>)\n",
    "\n",
    "np.full((row, col), <font  color='green'>value to fill in</font>)"
   ]
  },
  {
   "attachments": {},
   "cell_type": "markdown",
   "metadata": {},
   "source": [
    "### From file: \n",
    "np.fromfile(file_source, count=<font  color='green'>how many elements to take</font>, sep=<font  color='green'>use what to separate each element</font>)"
   ]
  },
  {
   "attachments": {},
   "cell_type": "markdown",
   "metadata": {},
   "source": [
    "### From interval: "
   ]
  },
  {
   "attachments": {},
   "cell_type": "markdown",
   "metadata": {},
   "source": [
    "np.arange(stop), np.arange(start, stop), np.arange(start, stop, interval) -> lst[:stop], lst[start:stop], lst[start:stop:interval]\n",
    "> create a list of integers from \"start\" to \"stop\", with optional \"intervals\" between each integer in the list. \n",
    "\n",
    "<br>\n",
    "\n",
    "np.linspace(<font  color='green'>start</font>, <font  color='red'>stop</font>, <font  color='orange'>num=50</font>)\n",
    "> generate a list of numbers with \"constant\" separation. <br> Note: the generated list of numbers are floats\n",
    "\n",
    "- <font  color='green'>start</font>: the beginning element of the list\n",
    "- <font  color='red'>stop</font>: the ending element of the list\n",
    "- <font  color='orange'>num</font>: the amount of numbers in the generated list.  \n",
    "\n",
    "<br>\n",
    "\n",
    "np.logspace(start, stop, num=50, <font  color='green'>endpoint=True</font>, <font  color='orange'>base=10.0</font>)    \n",
    "> generate a list of numbers where the distance between each logged element is constant. <br>\n",
    "np.logspace(1, 3, 3): outputs {10, 100, 1000} as log10(10)=1, log10(100)=2, log10(1000)=3. \n",
    "- <font  color='green'>endpoint</font>: {False} if end-points are not included, and {True} otherwise. \n",
    "- <font  color='orange'>base</font>: the base when applying log function. Default is 10.0.\n",
    "\n",
    "\n",
    "<br>\n",
    "\n",
    "np.geomspace(start, stop, num=50, endpoint=True)   \n",
    "> generate a list of numbers where the distance between each element's exponent/power is constant, given base. <br> \n",
    "automatically detects the base of number being exponentiated on. <br>\n",
    "np.geomspace(1, 32, 6): outputs {1, 2, 4, 8, 16, 32}; base is automatically detected to be 2. "
   ]
  },
  {
   "attachments": {},
   "cell_type": "markdown",
   "metadata": {},
   "source": [
    "### Diagonal entries: "
   ]
  },
  {
   "attachments": {},
   "cell_type": "markdown",
   "metadata": {},
   "source": [
    "np.diag(1D_array), np.diag(2D_array, <font  color='green'>k=0</font>): \n",
    "> if input array is one dimensional: return a 2D diagonal array whose entries are those in 1D array. <br>\n",
    "if input array is 2D: return 1D array of 2D input array's diagonal elements. \n",
    "- <font  color='green'>k</font>: the diagonal adjustment factor. When $k>0$, diagonal will be shifted upward. \n",
    "\n",
    "<br>\n",
    "\n",
    "Np.diagonal(ndarray, [<font  color='green'>diag_offset</font>, <font  color='orange'>axis1</font>, <font  color='orange'>axis2</font>])\n",
    "> returns a ($n-1$)Darray: handles higher dimensional array’s diagonal element extraction. \n",
    "- <font  color='green'>diag_offset</font>: if $>0$, diagonal line will be moved upward for element extraction\n",
    "- <font  color='orange'>axis</font>: selecting two axis to form matrices, for extracting diagonal elements. "
   ]
  },
  {
   "cell_type": "code",
   "execution_count": null,
   "metadata": {},
   "outputs": [],
   "source": [
    "import numpy as np\n",
    "\n",
    "# below is a conventional way for calculating dot products\n",
    "a = np.arange(24).reshape(3, 4, 2) # an array representing 3 layers of 4 vectors, each has length 2; a1, a2, a3, a4\n",
    "b = np.arange(8).reshape(4, 2) # 4 vectors each with length 2; b1, b2, b3, b4\n",
    "c = np.dot(a, b.T) # has shape [3, 4, 4]\n",
    "v_comp = np.diagonal(c, 0, axis1=-1, axis2=-2) # diagonal elements are correct dot products: a1&b1, a2&b2, a3&b3, a4&b4\n",
    "print(\"v_comp: \")\n",
    "print(v_comp)\n",
    "print(\"c: \")\n",
    "print(c)"
   ]
  },
  {
   "cell_type": "markdown",
   "metadata": {},
   "source": [
    "# Array indexing: "
   ]
  },
  {
   "cell_type": "markdown",
   "metadata": {},
   "source": [
    "### using slices: \n",
    "Slicing is equivalent to python list slicing, but applied on multiple dimensions, separated by comma \",\". "
   ]
  },
  {
   "cell_type": "code",
   "execution_count": null,
   "metadata": {},
   "outputs": [],
   "source": [
    "import numpy as np\n",
    "test_indexing = np.arange(1024).reshape(4, 8, 4, 8)\n",
    "print(test_indexing[0:2:1].shape) # this only offers slicing at axis=0\n",
    "print(test_indexing[..., 3:6:2, :].shape) # this slices only at third axis; \"...\" is used to occupy rest of the spaces\n",
    "                             # warning: \"...\" can only be used at one side of slicing, otherwise numpy won't know which dimension to slice!!!\n",
    "print(test_indexing[:, 2:6:2, 1:3, :].shape) # multiple axis slicing\n",
    "print(test_indexing[:, 2:7:2, 1:3, :].shape) # multiple axis slicing\n",
    "print(test_indexing[:, 2:-1:2, 1:3, :].shape) # multiple axis slicing"
   ]
  },
  {
   "attachments": {},
   "cell_type": "markdown",
   "metadata": {},
   "source": [
    "### Advanced indexing: \n",
    "np.indices(shape_tuple) -> np.array\n",
    "> return a tuple of arrays, used for indexing. <br> Specifically, the returned array will have shape $[n, shape1, shape2, …shapen]$,  where “n” indicates the number of axes of \"ndarray\", and for each 'shape1, ….shapen', each element represents index of corresponding element along '1st axis, … nth axis'. \n",
    "See below code demo for how to use it appropriately\n",
    "- shape_tuple: a python tuple indicating shapes of array for producing indices. \n",
    "\n",
    "Using coordinate indexes to extract specific elements. "
   ]
  },
  {
   "cell_type": "code",
   "execution_count": null,
   "metadata": {},
   "outputs": [],
   "source": [
    "# visualize indices\n",
    "import numpy as np\n",
    "print(np.indices((2, 3))) # the upper array indicates the index of corresponding element at axis 0, and lower is the same for axis 1\n"
   ]
  },
  {
   "cell_type": "code",
   "execution_count": null,
   "metadata": {},
   "outputs": [],
   "source": [
    "import numpy as np\n",
    "\n",
    "test_indexing = np.arange(1024).reshape(4, 8, 4, 8)\n",
    "indices = np.indices((4, 8, 4, 8)) # this gives an array of size [4, 1024]\n",
    "\n",
    "indices_taking = test_indexing[indices[0], indices[1], \n",
    "                        indices[2], indices[3]] # can print the result\n",
    "print(np.count_nonzero(indices_taking == test_indexing)) # booleans are representable by \"0, 1\"\n",
    "    # this line shows indices can help reproducing original array. \n",
    "indices_taking = test_indexing[indices[0], indices[2], \n",
    "                        indices[2], indices[3]]\n",
    "print(np.count_nonzero(indices_taking == test_indexing)) # this shows the ordering of indices matters\n",
    "\n",
    "test_indexing = np.arange(1024).reshape(32, 32)\n",
    "print(test_indexing[[2, 4, 1, 15], [2, 1, 10, 19]]) # this gives an array of shape [4], where \n",
    "            # where elements are respectively: test_indexing[2, 2], test_indexing[4, 1], \n",
    "            # test_indexing[1, 10] and test_indexing[15, 19]\n",
    "print(test_indexing[2, 2], test_indexing[15, 19])\n",
    "\n",
    "print(test_indexing[[[2, 4, 1, 15], [2, 4, 1, 15]], [[2, 1, 10, 19], [2, 4, 1, 15]]])\n",
    "    # creates an array of size [2, 4]; realize when indexing, the shape of indices must be \n",
    "    # broadcastable along all dimensions!!!\n",
    "\n",
    " # boardcasting\n",
    "print(\"boardcast: \\n\" + str(test_indexing[[[2, 4, 1, 15], [2, 4, 1, 15]], [[2, 1, 10, 19]]]))\n",
    "print(test_indexing[[[2, 4, 1, 15], [2, 4, 1, 15]], [[2], [4]]])\n",
    "# shape inconsistency\n",
    "print(test_indexing[[[2, 4, 1, 15], [2, 4, 1, 15]], [[2, 3]]]) # result in error"
   ]
  },
  {
   "cell_type": "markdown",
   "metadata": {},
   "source": [
    "# Array Operations: "
   ]
  },
  {
   "cell_type": "markdown",
   "metadata": {},
   "source": [
    "### Shape and Axis: "
   ]
  },
  {
   "attachments": {},
   "cell_type": "markdown",
   "metadata": {},
   "source": [
    "\n",
    "\n",
    "\n",
    "np.array.shape\n",
    "> a tuple where length is the dimension of the array, and \"shape[0]\" gives outer most dimension's size. \n",
    "\n",
    "<br>\n",
    "\n",
    "np.reshape(np.array, shape), np.array.reshape(shape)\n",
    "> reshape \"np.array\" into given new shape. RETURNS a new array. <br>\n",
    "- shape: a tuple where each element at index \"i\" corresponds to the size at dimension \"i\". \n",
    "    > Warning: the new \"shape\"'s product must match with number of elements in \"np.array\"\n",
    "\n",
    "<br>\n",
    "\n",
    "\n",
    "np.swapaxes(np.array, axis1, axis2), np.array.swapaxes(axis1, axis2)\n",
    "> swap \"np.array\"'s two axes specified by \"axis1, axis2\". RETURNS a new array.\n",
    "- axis1, axis2: two axes to make the swap, must be integer and must less than \"len(np.array.shape)\". \n",
    "\n",
    "<br>\n",
    "\n",
    "np.transpose(np.array, new_axes), np.array.transpose(new_axies)\n",
    "> permute the axes according to given \"new_axes\". RETURNS a new array. See below code for one example\n",
    "- new_axes: a tuple of length \"len(np.array.shape)\", contains distinct integers all in range  $0\\leq integer < len(np.array.shape) - 1$\n",
    ">Warning: \"np.transpose\" and \"np.swapaxes\" act differently than \"np.reshape\"; <br>\n",
    "\"np.reshape\" flattens array first before converting to newly-shaped array. However \"np.transpose\" and \"np.swapaxes\" preserves elements on the dimensions. See demo below to see their difference. \n",
    "\n",
    "<br>\n"
   ]
  },
  {
   "cell_type": "code",
   "execution_count": null,
   "metadata": {},
   "outputs": [],
   "source": [
    "import numpy as np\n",
    "\n",
    "test_arr = np.arange(120).reshape(2, 4, 3, 5)\n",
    "print(test_arr.shape)\n",
    "print(test_arr.reshape(2, 4, 5, 3).shape) \n",
    "print(test_arr.shape) # these two lines shows reshape returns a new array!!!\n",
    "a = test_arr.swapaxes(0, 2).swapaxes(1, 2)\n",
    "b = test_arr.transpose(2, 0, 1, 3)\n",
    "print(np.count_nonzero(a == b)) # transpose is more powerful than swapaxes when handling multiple axes swapping. \n",
    "\n",
    "\n",
    "\n",
    "# below demonstrates reshapping and transposing are not the same, even resulting in same shape\n",
    "print(np.count_nonzero(test_arr.flatten() == test_arr.reshape(3, 2, 4, 5).flatten()))\n",
    "print(np.count_nonzero(test_arr.flatten() == b.flatten())) # realize both arrays have the same shape!!!\n",
    "# you may put more code and use debug console to see what the real arrays look like. \n",
    "test_arr_small = np.arange(32).reshape(4, 8)\n",
    "print(test_arr_small)\n",
    "print(\"reshape result: \")\n",
    "print(test_arr_small.reshape(8, 4))\n",
    "print(\"transpose result: \")\n",
    "print(test_arr_small.transpose(1, 0))\n",
    "# above visualization should make most things clear"
   ]
  },
  {
   "attachments": {},
   "cell_type": "markdown",
   "metadata": {},
   "source": [
    "np.flatten(np.array), np.array.flatten()\n",
    "> Convert an \"np.array\" into a 1D array. \n",
    "\n",
    "<br>\n",
    "\n",
    "np.array.T\n",
    "> transpose last two dimensions of \"np.array\". \n",
    "\n",
    "<br>\n",
    "\n",
    "np.squeeze()\n",
    "\n",
    "<br>\n",
    "\n",
    "np.expand_dims(np.array, axis)\n",
    "> insert a new dimension at all dimensions in \"axis\" tuple. Newly inserted dimensions will have size 1. \n",
    "- axis: an integer or a tuple of integers containing which dimensions to insert. "
   ]
  },
  {
   "cell_type": "markdown",
   "metadata": {},
   "source": [
    "### Convert to array: \n"
   ]
  },
  {
   "cell_type": "markdown",
   "metadata": {},
   "source": [
    "np.asarray(list_like)\n",
    "- list_like: can be anything ranging from python list, tuples, numpy array etc.\n",
    "\n",
    "<br>\n",
    "\n",
    "np.asmatrix(list_like)\n",
    "> input \"list_like\" must be convertible to a 2D array -> matrix. Otherwise lead to error. \n",
    "\n",
    "<br>\n",
    "\n",
    "np.asscalar(list_like)\n",
    "> \"list_like\" can have multiple dimensions, but when \"flattened\", should have size \"1\" only\n",
    "\n",
    "<br>\n",
    "\n",
    "np.diagonal()\n",
    "> see reference in \"Array creation - Diagonal entries\" section. \n",
    "\n"
   ]
  },
  {
   "cell_type": "markdown",
   "metadata": {},
   "source": [
    "### Array combination and splitting"
   ]
  },
  {
   "attachments": {},
   "cell_type": "markdown",
   "metadata": {},
   "source": [
    "np.concatenate((ndarray1, ndarray2, …), axis=None) -> np.array\n",
    "> All ndarrays must have same “side length” at ALL non-concatenational axes; \n",
    "- axis: “axis=None” gives flattened combination of all input arrays; <br>\n",
    "“axis=0” gives concatenation at outer-most dimension [concat, …]; <br>“axis=-1” gives concatenation at inner-most dimension […, concat]; \n",
    "\n",
    "<br>\n",
    "\n",
    "\n",
    "np.stack(Union[ndarray, (ndarray1, ndarray2)], axis=0) -> ndarray <br>\n",
    ">input1=ndarray: rearrange all ndarray[i]’s element along “axis”; <br>\n",
    "input2=(ndarray1, ndarray2): concatenate two ndarrays along “axis”; \n",
    "- Input1 elaboration: suppose “axis=n”; then is equivalent to “ndarray.transpose(1, 2, ..., n, 0, n+1, ...)”\n",
    "- Input2 elaboration: first pile two ndarrays to form a new dimension, then treat the new array as “input1” and perform same operation as above. The input axis can be “1 extra” to compensate the newly added dimension. \n",
    "> Warning: this method always pile up data to form a new dimension; \n",
    "\tRequiring all inputs to have exact same shape, and “axis” only affects at last two dim; \n",
    "\tAbove warning doesn’t apply to hstack, vstack or dstack\n",
    "- Note:  for 3D cases, could be convenient to use: \"np.vstack((nparray1, nparray2))\" to replace axis=0, \"np.hstack((nparray1, nparray2))\" to replace axis=1, and \"np.dstack((nparray1, nparray2))\" to combine two arrays, by creating a third dimension. \n",
    "\n",
    "<br>\n",
    "\n",
    "Np.split(ndarray, Union[int, array[int]], axis=\"0 by default\") -> List\n",
    "> split the array into either equal lengths or by specified intervals, along axis. \n",
    "- args[1]: <br>\n",
    "if “int” is given, will split the array evenly by “int many”, but requires “divisibility (a|b)”; <br>\n",
    "if \"array[int]\", then will split the array by “index in array[int]”. Occurrence of same index result in empty ndarray along given dimension. (size is 0). Index exceeding array length will be discarded. \n",
    "\n",
    "<br>\n",
    "\n",
    "Np.array_split(ndarray, Union[int, array[int]], axis=0)\n",
    "> same as np.split(ndarray, int, axis=0), except ‘divisibility’ criterion is no longer required. "
   ]
  },
  {
   "cell_type": "code",
   "execution_count": 9,
   "metadata": {},
   "outputs": [],
   "source": [
    "import numpy as np\n",
    "\n",
    "# demo of np.stack\n",
    "test_1 = np.arange(30).reshape(2, 3, 5)\n",
    "test_2 = np.arange(30, 60).reshape(2, 3, 5)\n",
    "res1 = np.stack((test_1, test_2), 1)\n",
    "res2 = np.stack((test_1, test_2), 0)\n",
    "res3 = np.stack((test_1, test_2), 3)\n",
    "res4 = np.stack(res2, 3)\n",
    "# print(\"res1: \")\n",
    "# print(res1.shape)\n",
    "# print(\"res2: \")\n",
    "# print(res2.shape)\n",
    "# print(\"res3: \")\n",
    "# print(res3.shape) \n",
    "# print(\"res4: \")\n",
    "# print(res4.shape)# this is also a demo for input 1; the output shape is the same as res3; \n",
    "\n",
    "# demo of np.split, empty ndarray case; \n",
    "split_res = np.split(test_1, [2, 2, 6], axis=2) # slicing at same index result in empty array; \n",
    "# print(split_res)\n",
    "# print(\"split result shape:\")\n",
    "# print(split_res[0].shape, split_res[1].shape, split_res[2].shape)\n",
    "\n",
    "array_split_res = np.array_split(test_1, 3, axis=2)\n",
    "# print(array_split_res)\n",
    "# print(array_split_res[0].shape, array_split_res[1].shape, array_split_res[2].shape)\n",
    "# invalid_split = np.split(test_1, 2, axis=2)"
   ]
  },
  {
   "attachments": {},
   "cell_type": "markdown",
   "metadata": {},
   "source": [
    "### Adding and Modifying Array Elements\n"
   ]
  },
  {
   "attachments": {},
   "cell_type": "markdown",
   "metadata": {},
   "source": [
    "np.delete(ndarray, obj, axis=None)   ->   np.array\n",
    "- obj: a int or an array of int, as an index.     \n",
    "- axis: when “None”, delete “flattened” array’s elements (returns “flattened” array)\n",
    "> Warning: If index is out of bound at given axis, will raise error!!!\n",
    "\n",
    "<br>\n",
    "\n",
    "np.insert(ndarray, ind, value, axis=None) ->  np.array\n",
    "- ind: index to insert (new element will have the index after insertion), a scalar or int array. \n",
    "    > ind cannot exceed number of elements along an axis (if this number is given, same as appending along that axis)\n",
    "- value: if a scalar, will insert a row/col/one value depending on shape of ndarray; if an array list, will insert according to “axis”(requiring shape-consistency). \n",
    "- axis=None will first “flatten” ndarray, and return “flattened” one. \n",
    "> (np.insert considers type-casting: float->int, boolean -> int for ndarray[int])<br><br>\n",
    "> Realizing: “value” will be inserted into every \"ind\" along that axis, and shape consistency will be preserved by adding same row/columns/…, require boardcastable!<br><br>Also realizing if “ind” has only one index, all “value” will be added at that same position, with 1st element taking the “ind” index. However if “ind” is not size “1” and shape is inconsistent with “value”’s shape, will result in error. The dimension of “ind” and “value” should both be “1”. \n",
    "\n",
    "<br>\n"
   ]
  },
  {
   "cell_type": "code",
   "execution_count": 28,
   "metadata": {},
   "outputs": [],
   "source": [
    "import numpy as np\n",
    "b = np.arange(8).reshape(2, 4)\n",
    "# res1 = np.insert(b, [2], [10, 11], axis=0) # demo of shape inconsistency\n",
    "res2 = np.insert(b, [2], [10, 11, 12, 13], axis=0)\n",
    "# print(res2)\n",
    "res3 = np.insert(b, [2], [[10], [11]], axis=1)\n",
    "# print(res3)"
   ]
  },
  {
   "attachments": {},
   "cell_type": "markdown",
   "metadata": {},
   "source": [
    "Np.append(ndarray, value, axis=None) -> np.array\n",
    "> Append \"value\" into input \"ndarray\".\n",
    "- \"value\"'s shape must be the same with \"ndarray\" except the axis to insert.  \n",
    "- \"axis\" is \"None\": will flatten both \"ndarray\" and \"value\" to perform append operation. \n",
    "\n",
    "<br>\n",
    "\n",
    "np.unique(ndarray, return_index=False, return_inverse=False, return_counts=False, axis=None) -> (unique_array, ...)\n",
    "> Return an array of unique elements in SORTED ORDER, and FLATTENED\n",
    "- return_index: if \"True\": will also return each unique element’s first apparence in FLATTENED array. \n",
    "- return_inverse: if \"Ture\", will also return another index array having same shape as input \"ndarray\". \n",
    "    > Each element is the corresponding index of element in returned unique list. \"unique_array[index]\" will give original input in “ndarray”\n",
    "- return_counts: if true, will return an array “count” where “unique_array[i]” appeared in “ndarray” for “count[i]” many times. \n",
    "- axis: refer to previous discussions\n"
   ]
  },
  {
   "cell_type": "code",
   "execution_count": null,
   "metadata": {},
   "outputs": [],
   "source": [
    "# Code demo of np.unique\n",
    "import numpy as np\n",
    "\n",
    "test_arr = np.array([[1, 2, 1, 3], \n",
    "                    [2, 1, 3, 4], \n",
    "                    [4, 2, 5, 1]])\n",
    "\n",
    "unique_output = np.unique(test_arr, return_index=True, return_inverse=True)\n",
    "print(unique_output[0], unique_output[1], unique_output[2]) # prints out \"unique element array\", \"indexing array of first apparence\", \"inverse_indexing for reconstruction\"\n",
    "print(unique_output[0][unique_output[2]].reshape((3, 4)))"
   ]
  },
  {
   "attachments": {},
   "cell_type": "markdown",
   "metadata": {},
   "source": [
    "np.flip(ndarray, axis=None) -> np.array\n",
    "> Revert elements according to axis\n",
    "- axis: if \"None\", will revert elements in flattened array (but returned array has same shape as input)\n",
    "    > If is an int, just revert by the indicated axis. <br>If a tuple of int, will revert by all those axes. \n",
    "\n",
    "<br>\n",
    "\n",
    "\n",
    "np.flipud(ndarray) -> np.array  \n",
    "> up and down, same as np.flip(ndarray, axis=0)\n",
    "<br>\n",
    "\n",
    "np.fliplr(ndarray) -> np.array  \n",
    "> left and right, same as np.flip(ndarray, axis=1)<br><br>\n",
    "> Note: Both \"flipud\" and \"fliplr\" also works on higher dimensional arrays, with “axis” shown as above(only applicable to first two axes…)\n",
    "\n",
    "<br>\n",
    "\n",
    "np.reshape(ndarray, (new_shape[0], new_shape[1], new_shape[2], ...) , order=’C’)\n",
    "> Requiring new shape has the “SAME” number of elements as input. <br>\n",
    "First flatten input \"ndarray\", then re-construct according to given new shape -> not equal to “transpose”(see explanation of \"np.transpose\" for further explanation)\n",
    "- (int, int, ...) as new shape. First int is outer-most dimension's shape. \n",
    "- order: \"C\": filling inner-layers first; <br>\n",
    "step 1: [[a, b]]; step 2: [[a, b], [c, d]]; <br>\n",
    "\"F\": filling outer-layers first; <br> step 1: [[a], [b]]; step 2: [[a, c], [b, d]]\n",
    "\n",
    "<br>\n",
    "\n"
   ]
  },
  {
   "attachments": {},
   "cell_type": "markdown",
   "metadata": {},
   "source": [
    "# Sorting, Searching"
   ]
  },
  {
   "attachments": {},
   "cell_type": "markdown",
   "metadata": {},
   "source": [
    "np.sort(ndarray, axis=-1, kind=None, order=None) -> np.array\n",
    "> Return a sorted copy of “ndarray”\n",
    "- kind: {‘quicksort’, ‘mergesort’, ‘heapsort’, ‘stable’}\n",
    "- axis: if \"-1\": sort along last axis; if \"None\": flatten to sort\n",
    "\t> Sorting along last axis doesn’t consume extra space when sorting; <br>\n",
    "\t(might be useful if swapaxis is used before sorting for space saving?)\n",
    "\n",
    "<br>\n",
    "\n",
    "np.argsort(ndarray, axis=-1, kind=None, order=None) -> np.array\n",
    "> Return INDICES that would sort “ndarray”. See below demo for how to use this method\n"
   ]
  },
  {
   "cell_type": "code",
   "execution_count": null,
   "metadata": {},
   "outputs": [],
   "source": [
    "import numpy as np\n",
    "\n",
    "test_arr = np.array([[1, 2, 1, 3], \n",
    "                    [2, 1, 3, 4], \n",
    "                    [4, 2, 5, 1]])\n",
    "\n",
    "indice = np.argsort(test_arr, axis=None)\n",
    "flatten_sorted = test_arr.flatten()[indice]\n",
    "print(flatten_sorted)"
   ]
  },
  {
   "attachments": {},
   "cell_type": "markdown",
   "metadata": {},
   "source": [
    "<br>\n",
    "\n",
    "np.array().sort(axis=-1, kind=None, order=None) -> None: \n",
    "> IN-PLACE sorting of “ndarray”\n",
    "\n",
    "<br>\n",
    "\n",
    "np.partition(ndarray, kth, kind='introselect') -> np.array\n",
    "> Return a new array with partition as follows: <br>\n",
    "\t&emsp; The element at index “kth” of output array is the element in “ndarray[kth]” after sorting; <br> \n",
    "\t&emsp; Any elements at “index” < “kth” are all less than “ndarray[kth]”; <br>\n",
    "\t&emsp; Same as “one step splitting” in merge sort <br>\n",
    "- ‘introselect’: the algorithm for performing partition; \n",
    "\t> Basically it performs similar technique as quicksort/heapsort depending on efficiency of which algorithm is faster. \n"
   ]
  },
  {
   "attachments": {},
   "cell_type": "markdown",
   "metadata": {},
   "source": [
    "np.(nan)argmax(ndarray, axis=None, out=None, ...) -> np.array\n",
    "> Return the INDICES of maximum values along an “axis” for “ndarray”. \n",
    "- axis:\tif “axis” is none, will flatten “ndarray” and return the flattened max’s indice\n",
    "- out: if given, the output of this method will be filled into “out” ndarray. \n",
    "    > It must have the appropriate shape to contain the result. \n",
    "> “nan” values are ignored if “(nan)” is included; otherwise “ValueError” is raised if “ndarray” is all-nan; \n",
    "\n",
    "<br>\n",
    "\n",
    "np.(nan)argmin(ndarray, axis=None, out=None, ...) -> np.array\n",
    "> Return the INDICES of MINimal values along an “axis” for “ndarray”. <br> See \"np.argmax\"'s parameter explanation. \n",
    "\n",
    "\n"
   ]
  },
  {
   "cell_type": "code",
   "execution_count": null,
   "metadata": {},
   "outputs": [],
   "source": [
    "# demo of np.argmax\n",
    "import numpy as np\n",
    "\n",
    "test_arr = np.array([[1, 2, 1, 3], \n",
    "                    [2, 1, 3, 4], \n",
    "                    [4, 2, 5, 1]])\n",
    "print(np.argmax(test_arr, axis=0))\n",
    "print(np.argmax(test_arr, axis=1))\n",
    "print(np.argmax(test_arr, axis=None))"
   ]
  },
  {
   "attachments": {},
   "cell_type": "markdown",
   "metadata": {},
   "source": [
    "np.nonzero(ndarray) -> np.array: \n",
    "> Return all indices, following the form: array(dim0_indices, dim1_indices, ….) where the indexed elements are non-zero. <br> See below demo for how to use returned values. "
   ]
  },
  {
   "cell_type": "code",
   "execution_count": null,
   "metadata": {},
   "outputs": [],
   "source": [
    "# demo of np.nonzero output usage\n",
    "\n",
    "import numpy as np\n",
    "test_arr = np.array([[1, 2, 1, 3], \n",
    "                    [2, 1, 3, 4], \n",
    "                    [4, 2, 5, 1],\n",
    "                    [0, 1, 0, 2]])\n",
    "indices = np.array(np.nonzero(test_arr))\n",
    "print(test_arr[indices[0], indices[1]])\n",
    "print(test_arr.flatten())"
   ]
  },
  {
   "attachments": {},
   "cell_type": "markdown",
   "metadata": {},
   "source": [
    "np.where(condition, x, y) -> np.array\n",
    "> Returns a new \"ndarray\", where when “condition” is satisfied at index \"i\", corresponding output at index \"i\" will be “x”’s corresponding element. Otherwise the output’s corresponding index \"i\" will be “y”’s corresopnding element. <br>\n",
    "Below demo shows what \"condition\" can be: boolean expression or a True/False array(useful for masking). \n",
    "\n",
    "<br>\n",
    "\n",
    "np.clip(ndarray, a_min, a_max, out=None) -> np.array\n",
    "> Return a new \"ndarray\" where all values in the array are within \"[a_min, a_max]\". \n",
    "- out: \"np.array\" instance. If provided, the outputs will be placed into this array. If \"out=ndarray\", this will be in-place operation. \n",
    "> Sometimes \"np.clip()\" is more convenient than \"np.where()\" when the conditions are easy. See below demo"
   ]
  },
  {
   "cell_type": "code",
   "execution_count": null,
   "metadata": {},
   "outputs": [],
   "source": [
    "# demo of np.where and np.clip\n",
    "import numpy as np\n",
    "\n",
    "# task: eliminate all elements which are not in [0, 10]\n",
    "test_arr = np.array([[-1, -2, 0, 3, 1, 5, 10, 12], [10, 2, 1, -3, 99, 100, 21, 0.01]])\n",
    "res_where = np.where(test_arr > 0, test_arr, np.zeros_like(test_arr))\n",
    "res_where = np.where(res_where <= 10, res_where, np.ones_like(test_arr) * 10)\n",
    "print(res_where)\n",
    "\n",
    "res_clip = np.clip(test_arr, 0, 10) # realize both intervals are \"inclusive!!!\"\n",
    "print(res_clip)"
   ]
  },
  {
   "attachments": {},
   "cell_type": "markdown",
   "metadata": {},
   "source": [
    "# Functional Programming: \n",
    "Apply a function to all elements of an array, probably along an axis"
   ]
  },
  {
   "attachments": {},
   "cell_type": "markdown",
   "metadata": {},
   "source": [
    "np.apply_along_axis(func, axis, ndarray, func_args) -> np.array\n",
    "> “func” must accept 1D array as input; once this method is called, it will extract ndarray along axis as 1D array and feed to “func”. <br>\n",
    "If “func” returns a higher dimensional array for each element, the position of 1D array in returned array will be replaced by the higher dimensional array. \n",
    "- axis: int\n",
    "- func_args: more arguments for func_name\n"
   ]
  },
  {
   "attachments": {},
   "cell_type": "markdown",
   "metadata": {},
   "source": [
    "<br>\n",
    "\n",
    "np.apply_over_axes(func, ndarray, axis) -> np.array\n",
    "> implements operations on axes one by one in “axis” array. <br>\n",
    "NOT equivalent to applying \"np.apply_along_axis\" along multiple axes CUMULATIVELY, as the constraints of \"func\" is different!!!(see below demo) \n",
    "- “func” must accept numpy array and integer axis as only two inputs; the output of the function must NOT increase the dimension of \"ndarray\". \n",
    "- axis: an array of integers, specifying axes to apply \"func\"\n"
   ]
  },
  {
   "cell_type": "code",
   "execution_count": 8,
   "metadata": {},
   "outputs": [
    {
     "name": "stdout",
     "output_type": "stream",
     "text": [
      "(2, 3) (2, 3, 3)\n",
      "[[15]]\n"
     ]
    }
   ],
   "source": [
    "import numpy as np\n",
    "\n",
    "def test_func(arr, multiplier):\n",
    "    \"\"\"raise the dimension of 'arr' by 1, and repeat 'multiplier' many times.\"\"\"\n",
    "    return np.repeat(arr[None], multiplier, axis=0)\n",
    "\n",
    "test_arr = np.arange(6).reshape(2, 3)\n",
    "res = np.apply_along_axis(test_func, 1, test_arr, 3) # 3 is \"multiplier\", the function's argument\n",
    "print(test_arr.shape, res.shape) # realize the extra \"3\" of res.shape, which raise dimension up; \n",
    "\n",
    "res2 = np.apply_over_axes(np.sum, test_arr, [0, 1]) # usually quite convenient for applying an operation\n",
    "                                                    # CUMULATIVELY among multiple axes\n",
    "print(res2)\n",
    "# res2 = np.apply_over_axes(test_func, test_arr, [0]) # leads to an error as \n",
    "#                                                     # dimension of output is increased\n"
   ]
  },
  {
   "attachments": {},
   "cell_type": "markdown",
   "metadata": {},
   "source": [
    "<br>\n",
    "\n",
    "np.vectorize(func)  ->   A function \"func_v\" which could be applied on vectors; \n",
    "- “func” can only be applied on scalars. When need to use \"func_v\", simply call it and give ndarray or scalars as input. \n",
    "    > if “func\" allows multiple inputs, then each input is either a scalar, or ndarray ALL with BOARDCASTABLE shape (see code demo below)\n",
    "> Note: vectorized function is iterated using for loop, thus not enhancing performance;\n"
   ]
  },
  {
   "cell_type": "code",
   "execution_count": null,
   "metadata": {},
   "outputs": [],
   "source": [
    "import numpy as np\n",
    "\n",
    "def myfunc(a, b):\n",
    "    if a > b: \n",
    "        return a - b\n",
    "    else: \n",
    "        return a + b\n",
    "\n",
    "func_v = np.vectorize(myfunc)\n",
    "print(func_v([1, 2, 3, 4], 3))\n",
    "print(func_v([1, 2, 3, 4], [2, 1, 3, 3])) # exactly the same shape: element-wise subtraction\n",
    "print(func_v([[1, 2, 3, 4], [2, 3, 4, 5]], [2, 1, 3, 3])) # boardcastable shape, apply 2nd input to multiple rows of 1st input. \n",
    "# print(func_v([1, 2, 3, 4], [4, 5])) # lead to an error"
   ]
  },
  {
   "attachments": {},
   "cell_type": "markdown",
   "metadata": {},
   "source": [
    "np.piecewise(ndarray, [boolean-condition1, boolean-condition2, …], [func1, func2,…]) -> np.array\n",
    "> returned array has same dimension as input \"ndarray\".\n",
    "\n",
    "> Boolean-condition must be based on “input-variable”, and usually use inequalities; <br>\n",
    "    (useful for creating activation/piecewise function)\n"
   ]
  },
  {
   "attachments": {},
   "cell_type": "markdown",
   "metadata": {},
   "source": [
    "# Advanced Indexing using Indices and Masks"
   ]
  },
  {
   "attachments": {},
   "cell_type": "markdown",
   "metadata": {},
   "source": [
    "### Indexing: "
   ]
  },
  {
   "attachments": {},
   "cell_type": "markdown",
   "metadata": {},
   "source": [
    "np.where(condition, array1, array2) -> np.array\n",
    "> refer to previous explanation in \"sorting, searching\" section. \n",
    "\n",
    "<br>\n",
    "\n",
    "np.indices((shape1, shape2, shape3, …shapen)) -> np.array\n",
    "> refer to previous section: \"array indexing: slices\" for explanation. \n",
    "\n",
    "<br>\n"
   ]
  },
  {
   "attachments": {},
   "cell_type": "markdown",
   "metadata": {},
   "source": [
    "np.ravel_multi_index(ndarray, shape) -> np.array\n",
    "> Return the represented index of flattened (shape) array. This method treats \"ndarray\" as output of \"np.indices(shape)\", as described in 'array-indexing' part and returns corresponding flattened (shape) array’s index. See code demo below. \n",
    "- shape: a tuple specifying array's shape. \n",
    "\n",
    "> For the example below: 22 = 3x6+4, [3,4]; 41=6x6+5, [6,5], … <br>\n",
    "One potential constraint is, the indexing array’s index cannot exceed (shape)’s axis length; e.g, [8, 6] fails because 8>7, where 7 is first axis’s length. \n"
   ]
  },
  {
   "cell_type": "code",
   "execution_count": null,
   "metadata": {},
   "outputs": [],
   "source": [
    "import numpy as np\n",
    "\n",
    "high_dim_index = np.array([[3, 6, 6], [4, 5, 1]])\n",
    "test_arr = np.arange(42).reshape(7, 6) # if flattened, this will be the index of 1 dimensional array with 42 elements. \n",
    "flattened_index = np.ravel_multi_index(high_dim_index, (7, 6))\n",
    "print(flattened_index) # \n",
    "print(test_arr[high_dim_index[0], high_dim_index[1]]) # you could see the elements printed out are exactly the same!!!"
   ]
  },
  {
   "attachments": {},
   "cell_type": "markdown",
   "metadata": {},
   "source": [
    "<br>\n",
    "\n",
    "np.unravel_index(1Darray, shape) -> np.array\n",
    "> return a ndarray of indices on arrays with shape \"shape\". <br>\n",
    "This method does exactly the opposite of \"np.ravel_multi_index\"\n",
    "\n",
    "<br>\n",
    "\n"
   ]
  },
  {
   "attachments": {},
   "cell_type": "markdown",
   "metadata": {},
   "source": [
    "np.mask_indices(mask_shape, mask_function, k) -> np.array\n",
    "> Returns indices to access values NOT being masked. <br>Used for generating masked-indexes for array creation. \n",
    "- “mask_shape”: generated boolean mask has shape (mask_shape, mask_shape)\n",
    "- \"mask_function\": func(input_array, k) returns a boolean array. \n",
    "    > mask_indices applied \"mask_function\" on \"np.ones()\" array, and returns nonzero element's indices -> \"mask_func(np.ones((n, n)), k)\". Thus any method applied on numpy array and for indexing could work. \n",
    "- k: argument for \"mask_function\". \n"
   ]
  },
  {
   "attachments": {},
   "cell_type": "markdown",
   "metadata": {},
   "source": [
    "<br>\n",
    "\n",
    "np.diag_indicies(int, optional[ndim]) -> np.array\n",
    "> Return indexing array with shape (ndim, 1, int). <br>\n",
    "Used for indexing the diagonal elements of an array having (ndim, int, int) shape. \n"
   ]
  },
  {
   "attachments": {},
   "cell_type": "markdown",
   "metadata": {},
   "source": [
    "### Extracting elements according to advanced indexing"
   ]
  },
  {
   "attachments": {},
   "cell_type": "markdown",
   "metadata": {},
   "source": [
    "np.take(ndarray, indices, axis=None) -> np.array\n",
    "> Return a new ndarray being indexed by given “indices”. <br>\n",
    "Equivalent to ndarray[:, :, …:, indices, :, :…] where “indices” locates at “axis” position. <br>\n",
    "When \"axis=None\", \"ndarray\" will be flattened before using. <br>\n",
    "See below for a code demo. "
   ]
  },
  {
   "cell_type": "code",
   "execution_count": null,
   "metadata": {},
   "outputs": [],
   "source": [
    "import numpy as np\n",
    "\n",
    "test_take = np.arange(120).reshape(1, 2, 3, 4, 5)\n",
    "print(test_take.shape)\n",
    "take_res = np.take(test_take, [0, 1], axis=2)\n",
    "print(take_res.shape)\n",
    "take_res = np.take(test_take, [[0, 1, 2], [2, 3, 1]], axis=3)\n",
    "print(take_res.shape)\n",
    "print(take_res[..., 1, 1, :] == test_take[..., 3, :]) # this demonstrates the indexing's technique; \n",
    "        # 1, 1: gives \"3\" in the indexing array [[0, 1, 2], [2, 3, 1]]; \n",
    "take_res = np.take(test_take, [[0, 1, 4, 2, 1], [2, 3, 1, 1, 3]], axis=4)\n",
    "print(take_res.shape)"
   ]
  },
  {
   "attachments": {},
   "cell_type": "markdown",
   "metadata": {},
   "source": [
    "np.choose(indices, array_choices) -> np.array\n",
    "> Return a newly created array with elements from \"array_choices\", based on \"indices\". <br>\n",
    "“indices” needs to have same length as outer-dimension of “array_choices”. <br>\n",
    "Output will have same shape as “indices” <br>\n",
    "\n",
    "\n",
    "> Last dimension of \"array_choices\" is always treated as the set of arrays to choose from; <br>\n",
    "All elements in \"indices\" must not exceed \"array_choices.shape[-1]\"!<br>\n",
    "Shape broadcastability between \"indices.shape[:-2]\" and \"array_choices[:-2]\" (both excluding last dimension) is demonstrated in the code below. <br>\n",
    "\n",
    "> Note: this function is not easy to understand; if feel stuck can just skip it, or perform more experiments. \n"
   ]
  },
  {
   "cell_type": "code",
   "execution_count": null,
   "metadata": {},
   "outputs": [],
   "source": [
    "import numpy as np\n",
    "\n",
    "indices_arr = np.array([[0, 1, 2], [1, 2, 3]])\n",
    "array_choices = np.arange(12).reshape(4, 3)\n",
    "print(np.choose(indices_arr, array_choices))\n",
    "print(np.choose(indices_arr, array_choices) == array_choices[indices_arr, [[0, 1, 2], [0, 1, 2]]])\n",
    "# above shows: choices are taken by treating each column as a complete array for choosing elements from. \n",
    "\n",
    "\n",
    "array_choices = np.arange(24).reshape(4, 2, 3)\n",
    "print(np.choose(indices_arr, array_choices))\n",
    "print(np.choose(indices_arr, array_choices) == array_choices[\n",
    "    indices_arr, [[0, 0, 0], [1, 1, 1]], [[0, 1, 2], [0, 1, 2]] # this shows shape broadcasting occurred at axis 1: [[0, 0, 0], [1, 1, 1]]\n",
    "])\n",
    "print(np.choose([2, 1, 1], array_choices) == array_choices[\n",
    "    [[2, 1, 1], [2, 1, 1]], [[0, 0, 0], [1, 1, 1]], [[0, 1, 2], [0, 1, 2]] # this demonstrates shape broadcasting at axis 0\n",
    "])"
   ]
  },
  {
   "attachments": {},
   "cell_type": "markdown",
   "metadata": {},
   "source": [
    "np.select(condlist, choicelist, default=0) -> np.array   \n",
    "> Return a new array extracted according to condlist. \n",
    "- \"condlist\" is an boolean array of conditions, each applied on elements of \"choicelist\". \n",
    "- \"choicelist\" is a list of ndarrays. The ordering of choicelist’s elements affects ordering of \n",
    "evaluation. \n",
    "- \"default\" is the value to fill if no elements at given index from any choice-ndarray satisfies \n",
    "condlist. \n",
    "\n",
    "> In practise, if \"choicelist[0][0]\" doesn’t satisfy any condition in \"condlist[0]\", will move \n",
    "on to \"choicelist[1][0]\", …and so on. As long as one \"True\" condition is satisfied, will fill in output array at index \"[0]\" as the first found element, and move on to \"choicelist[0][1]\" and \"condlist[1]\"...\n",
    "\n",
    "> Broadcastability: requirements on shape boardcasting is similar to that of “np.choose”; require “condlist.shape” boardcastable with “choicelist”’s last few dimensions\n"
   ]
  },
  {
   "cell_type": "code",
   "execution_count": null,
   "metadata": {},
   "outputs": [],
   "source": [
    "import numpy as np\n",
    "\n",
    "choice_list = np.arange(9).reshape([3, 3])\n",
    "cond_list = np.array([[False, False, False], [True, False, False], [True, True, True]])\n",
    "print(np.select(cond_list, choice_list))\n",
    "# print [3, 7, 8] instead of [6, 7, 8]: due to occurrence of first \"True\" at cond_list[1, 0]\n",
    "# print(np.select(cond_list[:-2], choice_list)) # leads to error due to shape NOT BOARDCASTABLE"
   ]
  },
  {
   "attachments": {},
   "cell_type": "markdown",
   "metadata": {},
   "source": [
    "np.compress(condition, ndarray, axis=None) -> np.array\n",
    "> Choosing elements by applying \"condition\" array along \"axis\" of \"ndarray\". \n",
    "- \"condition\": MUST BE 1D !!! a boolean “1darray”; \n",
    "    > if condition has less length than ndarray.shape[axis], will only output “len(condition)” dimensional ndarray along “axis”. \n",
    "- \"axis\": the axis where condition would be applied to extract elements out; \n",
    "    >\"axis=None\": will flatten ndarray first\n"
   ]
  },
  {
   "cell_type": "code",
   "execution_count": null,
   "metadata": {},
   "outputs": [],
   "source": [
    "import numpy as np\n",
    "\n",
    "test_arr = np.arange(9).reshape(3, 3)\n",
    "condition = np.array([False, True, True])\n",
    "print(test_arr)\n",
    "print(np.compress(condition, test_arr, axis=0))\n",
    "print(np.compress(condition, test_arr, axis=1))\n",
    "print(test_arr.flatten())\n",
    "print(np.compress(condition, test_arr, axis=None)) "
   ]
  },
  {
   "attachments": {},
   "cell_type": "markdown",
   "metadata": {},
   "source": [
    "### Adding & replacing elements according to advanced indexing\n"
   ]
  },
  {
   "attachments": {},
   "cell_type": "markdown",
   "metadata": {},
   "source": [
    "np.place(ndarray, mask, vals) -> None\n",
    "> Replaces \"ndarray\"’s elements with \"vals\" according to \"mask\"-conditions;\n",
    "- \"mask\" must be a boolean expression applied on “ndarray”, SAME size as “ndarray”\n",
    "- \"vals\" will be FLATTENED, and replaced consecutively and cyclic\n",
    "    > 1st occurrence of “True” on mask: replace with val[0], …. And a cycle (starting from \"val[0]\" again) if all elements in “vals” has been used for replacing once, twice, ...\n"
   ]
  },
  {
   "attachments": {},
   "cell_type": "markdown",
   "metadata": {},
   "source": [
    "<br>\n",
    "\n",
    "np.put(ndarray, indices, vals) -> None\n",
    "> Replaces \"ndarray\"’s element into “vals” based on \"indices\"\n",
    "- \"indices\" can be indexing array or boolean array\n",
    "    > warning: indices are for flattend array only!!!   \n",
    "- \"vals\" will be replaced consecutively and cyclic, and flattened\n"
   ]
  },
  {
   "cell_type": "code",
   "execution_count": null,
   "metadata": {},
   "outputs": [],
   "source": [
    "import numpy as np\n",
    "\n",
    "input_array = np.arange(9).reshape([3, 3])\n",
    "print(input_array)\n",
    "np.put(input_array, [3, 5], [2, 1])  # recall [3, 5] is the indices array for FLATTENED array!\n",
    "print(input_array)"
   ]
  },
  {
   "attachments": {},
   "cell_type": "markdown",
   "metadata": {},
   "source": [
    "np.putmask(ndarray, mask, values) -> None\n",
    "> Replace elements in \"ndarray\" with \"values\" according to \"mask\" condition. \n",
    "- \"mask\":  boolean array, must have SAME shape as \"ndarray\"\n",
    "    > A value will be replaced only when element-mask is “True” \n",
    "- \"values\": can be a scalar or array-like(will be flattened); \n",
    "    > values will be replaced consecutively and cyclic. \n"
   ]
  },
  {
   "attachments": {},
   "cell_type": "markdown",
   "metadata": {},
   "source": [
    "# np.ma package: mask operations; <br> import numpy.ma as ma"
   ]
  },
  {
   "attachments": {},
   "cell_type": "markdown",
   "metadata": {},
   "source": [
    "<center><img src=\"reference_img/mask_properties.png\" width=300></center>\n",
    "<!---\n",
    "<center><img src=\"mask_properties.png\" width=300><img src=\"mask_properties.png\" width=500></center>\n",
    "above inserts 2 images, and justs both to center. \n",
    "-->\n",
    "\n",
    "Above image shows some properties of masked array OBJECT/INSTANCE. \n",
    "- Elements with “--” in “data” is where mask is applied (“True” in mask). \n",
    "- “fill_value” indicates what value to give when convert back to original array. \n",
    "\n",
    "<br>\n",
    "\n",
    "Most operations that can be applied on ordinary \"np.array\" could also be applied directly on \"ma.array\". Below is an non-exhaustive list of methods also applicable on \"ma.array\": \n",
    "- Creation: ma.empty(), ma.empty_like(), ma.ones(), ma.ones_like(), ma.zeros(), ma.zeros_like()\n",
    "- Inspection: ma.nonzero(), ma.shape()\n",
    "- Shape-related: ma.reshape(), ma.array.flatten(), ma.array.reshape(), ma.swapaxes(), ma.transpose(), ma.array.swapaxes(), ma.array.transpose(); <br> ma.expand_dims(), ma.squeeze(), ma.stack()/dstack()/hstack()/vstack(), ma.concatenate()\n",
    "- Sorting and Locating: ma.argmax(), ma.max(), ma.argsort(), ma.sort()\n",
    "\n"
   ]
  },
  {
   "attachments": {},
   "cell_type": "markdown",
   "metadata": {},
   "source": [
    "### Array Creation and Examination\n",
    "ma.array(data, mask=False, fill_value=None) -> MaskedArray\n",
    "> Creates a masked array object. \n",
    "- \"mask\": must have same shape as \"data\" or a single value. \"True\" indicates the current object is masked. \n",
    "- \"fill_value\": when unmasking, the value to fill at masked indexes. \n",
    "\n",
    "<br>\n",
    "\n",
    "ma.MaskedArray(data, mask=False, fill_value=None) -> MaskedArray\n",
    "> Returns a masked array with all properties shown at beginning of this section. \n",
    "\n",
    "<br>\n",
    "\n",
    "ma.masked_all(shape) -> MaskedArray\n",
    "> Return a masked array with shape “shape” where all elements are masked. \n",
    "- \"shape\" is a tuple of integers. \n",
    "> Cannot assign \"fill_value\"!!!\n",
    "\n",
    "<br>\n",
    "\n",
    "ma.MaskedArray.all() -> Boolean\n",
    "> Returns \"True\" if all elements in \"ma.MaskedArray\" are masked. \n",
    "\n",
    "ma.MaskedArray.any() -> Boolean\n",
    "> Returns \"True\" if there is at least one element in \"ma.MaskedArray\" being masked.\n",
    "\n",
    "<br>\n",
    "\n",
    "ma.count_masked(ma.array, axis=None)   ->  Union[int, np.array[int]]\n",
    "> Count how many elements are masked. \n",
    "- \"axis\": specifying the axis to perform the counting. \n",
    "    > If \"axis=None\", will count flattened version and return a scalar.<br>\n",
    "    If not, will return a “ndarray” where each element indicates how many “ma.array”’s elements are masked along that axis. \n",
    "\n",
    "<br>\n",
    "\n"
   ]
  },
  {
   "attachments": {},
   "cell_type": "markdown",
   "metadata": {},
   "source": [
    "### Mask out values"
   ]
  },
  {
   "attachments": {},
   "cell_type": "markdown",
   "metadata": {},
   "source": [
    "ma.mask_cols/rows/rowcols(ma.array) -> ma.array\n",
    "> Return a modified ma_ndarray as follows: <br>\n",
    "&emsp; If there is a mask at any element of that column/row, then all entries of that \n",
    "column/row/row&col will be applied with a mask. See below demo for better understanding.\n",
    "- \"ma_array\" can ONLY be 2D!"
   ]
  },
  {
   "cell_type": "code",
   "execution_count": null,
   "metadata": {},
   "outputs": [],
   "source": [
    "import numpy as np\n",
    "import numpy.ma as ma\n",
    "\n",
    "mask_array = ma.array(np.arange(9).reshape(3, 3), mask=[[False, False, False], [True, False, True], [False, False, False]])\n",
    "col_mask = ma.mask_cols(mask_array)\n",
    "print(col_mask) # the 1st column and 3rd column contains at least 1 True in mask; \n",
    "row_mask = ma.mask_rows(mask_array)\n",
    "print(row_mask)# the 2nd row contains at least 1 True in mask\n",
    "rowcol_mask = ma.mask_rowcols(mask_array)\n",
    "print(rowcol_mask) # combination of both masks above"
   ]
  },
  {
   "attachments": {},
   "cell_type": "markdown",
   "metadata": {},
   "source": [
    "ma.masked_invalid(np.array) -> ma.array\n",
    "> mask a location of “np.array” whenever “np.NAN\" or \"np.Inf” occurs\n",
    "\n",
    "<br>\n",
    "\n"
   ]
  },
  {
   "attachments": {},
   "cell_type": "markdown",
   "metadata": {},
   "source": [
    "ma.masked_equal/greater/greater_equal/less/less_equal/not_equal(np.array, value) -> ma.array\n",
    "> Return a \"ma.array\" according to the following: <br> \n",
    "<br>\n",
    "    > A mask is applied to a value in “np.array” whenever the element in \"np.array\" is “equal/greater/greater_equal/less/less_equal/not_equal” to the “value”. \n",
    "\n",
    "<br>\n",
    "\n",
    "ma.masked_value(input_array, value, copy=True) -> Union[None, ma.array]\n",
    "> mask entries from “input_array” if the entry is equal to “value”. \n",
    "- \"value\": can be either a scalar, or an “np.array”. \n",
    "    > if \"np.array\", the shape must be BOARDCASTABLE with 'last few dimensions' of \"input_array\". \n",
    "- \"copy\": whether to return a new copy of masked array. If \"False\", will perform in-place masking. \n"
   ]
  },
  {
   "cell_type": "code",
   "execution_count": null,
   "metadata": {},
   "outputs": [],
   "source": [
    "import numpy as np\n",
    "import numpy.ma as ma\n",
    "\n",
    "input_arr = np.array([[0, 0, 2], [100, 200, 300]])\n",
    "res1 = ma.masked_values(input_arr, [100, 200, 300])\n",
    "print(res1)\n",
    "res2 = ma.masked_values(input_arr, 0)\n",
    "print(res2)\n",
    "res3 = ma.masked_greater(input_arr, 5)\n",
    "print(res3)"
   ]
  },
  {
   "attachments": {},
   "cell_type": "markdown",
   "metadata": {},
   "source": [
    "ma.masked_inside/outside(ndarray, v1, v2) -> ma.array \n",
    "> Return a \"ma.array\" as follows:  <br> \n",
    "&emsp; If the current element in “ndarray” is inside/outside interval “[v1, v2]”, it will be masked.  \n",
    "\n",
    "<br>\n",
    "\n",
    "\n",
    "ma.masked_where(condition, ndarray) -> ma.array\n",
    "> Return a ma_ndarray as follows: \n",
    "<br> &emsp;\tIf the current element in “ndarray” meets with ALL conditions in “condition”, it will be masked. \n",
    "\n",
    "- “condition”: a 1D array, with expressions producing \"True/False\". Applied on “ndarray”. \n",
    "\t> Masking an array 'conditioned' on another is possible (usually the index). See below demonstration. \n"
   ]
  },
  {
   "cell_type": "code",
   "execution_count": null,
   "metadata": {},
   "outputs": [],
   "source": [
    "import numpy as np\n",
    "import numpy.ma as ma\n",
    "\n",
    "a = np.array([1, 2, 4, 100, 200])\n",
    "b = np.array([10, 11, 19, 12, 0])\n",
    "print(ma.masked_where(b > 12, b))\n",
    "print(ma.masked_where(a >= 100, b)) # realize this masks the indexes. \n",
    "c = np.repeat(b[None], repeats=3, axis=0)\n",
    "# print(ma.masked_where(a >= 100, c)) # this gives shape error: both arrays of masked_where must have same input!!!"
   ]
  },
  {
   "attachments": {},
   "cell_type": "markdown",
   "metadata": {},
   "source": [
    "# Linear Algebra <br> import numpy.linalg as lin\n"
   ]
  },
  {
   "attachments": {},
   "cell_type": "markdown",
   "metadata": {},
   "source": [
    "### Multiplications"
   ]
  },
  {
   "attachments": {},
   "cell_type": "markdown",
   "metadata": {},
   "source": [
    "np.dot(a, b) -> np.array\n",
    "> Return dot product of two arrays as a new array. \n",
    "- “a” and “b” must satisfy shape restriction for matrix/vector multiplication. \n",
    "    > Only multiply last two axes\n",
    "> Note: using “@” (a @ b) is preferred for “Matrix multiplication”<br>\n",
    "&emsp; (supports scalar multiplication as well)\n",
    "\n",
    "<br>\n",
    "\n",
    "np.vdot(a, b) -> np.array\n",
    "> Return dot product of two vectors <br> Doesn’t work on matrix-vector multiplication\n",
    "<br>\n",
    "\n",
    "> Note: if “a, b” have same shape but not 1D: will flatten both “a, b” to vectors!!!\n"
   ]
  },
  {
   "attachments": {},
   "cell_type": "markdown",
   "metadata": {},
   "source": [
    "<br>\n",
    "\n",
    "np.inner(a, b)   ->  np.array\n",
    "> Return inner product of two arrays, i.e,  $(a1*b1+a2*b2+…)$\n",
    "\n",
    "<br>\n",
    "\n",
    "np.outer(a, b)   -> np.array \n",
    "> Returns outer product of two arrays    (two vectors   ->  one matrix)<br>\n",
    "\tUseful for creating COVARIANCE MATRIX, where both input vectors are the difference of each random value with their mean. \n",
    "\n",
    "<br>\n",
    "\n",
    "np.matmul(a, b)    -> np.array\n",
    "> Returns matrix product of two arrays. <br>\n",
    "Require \"a\", \"b\" satisfy shape constraints, and will perform matrix multiplication. \n",
    "<br>\n",
    "\n",
    "> Equivalent to “a @ b”\n",
    "\n",
    "<br>\n",
    "\n",
    "np.multiply(a, b)  ->  np.array\n",
    "> Return elementwise multiplication of two matrix/vector/…<br>\n",
    "Requires “a, b” to have same shape\n"
   ]
  },
  {
   "cell_type": "code",
   "execution_count": null,
   "metadata": {},
   "outputs": [],
   "source": [
    "# this is a demo for multi-dimensional linear algebra methods. \n",
    "# for multi-dimensional arrays, the last dimension is treated as the vector, and multiplication method\n",
    "# will be a cartesian product.\n",
    "import numpy as np\n",
    "import numpy.linalg as lin\n",
    "\n",
    "a = np.arange(8).reshape(4, 2)\n",
    "print(np.inner(a, a)) # realize diagonal are the vector multiplication with themselves. \n",
    "print(np.diag(np.inner(a, a))) # useful for calculating vector norm. \n",
    "print(np.outer(a, a)) # realize diagonal elements are perfect squares; \n",
    "print(np.diag(np.outer(a, a))) # useful for determining variance, instead of covariance\n",
    "# use np.diag to extract desired outputs out. \n"
   ]
  },
  {
   "attachments": {},
   "cell_type": "markdown",
   "metadata": {},
   "source": [
    "lin.multi_dot(arrays)   ->   np.array\n",
    "> Return matrix-multiplication of multiple vectors in “arrays”\n",
    "- \"arrays\": a tuples of vectors/matrix for multiplication\n",
    "    > All arrays in \"arrays\" tuple must be 2D except 1st and last, treated as row-vec and col-vec respectively\n",
    "\n",
    "<br>\n",
    "\n",
    "lin.matrix_power(a, n)    -> np.array  \n",
    "> Return the result of matrix multiplication of “n” many “a”. \n",
    "- “a” is required to be a square matrix\n",
    "- If “n” is 0 will return identity"
   ]
  },
  {
   "attachments": {},
   "cell_type": "markdown",
   "metadata": {},
   "source": [
    "### Special_values"
   ]
  },
  {
   "attachments": {},
   "cell_type": "markdown",
   "metadata": {},
   "source": [
    "lin.eig(a) -> (eigenvalues, eigenvectors)\n",
    "- “a” has shape (..., n, n)\n",
    "- \"eigenvalues\" has dimension (..., n)\n",
    "- \"eigenvectors\" has dimension (..., n, n), and are normalized. \n",
    "> Note: \"eigenvector[..., :i]\" corresponds to \"eigenvalue[..., i]\" \n",
    "\n",
    "<br>\n",
    "\n",
    "lin.norm(a, axis)   ->   Union[int, np.array]\n",
    "> Return norm of a matrix / vector, depending on input configurations. \n",
    "- axis: if an integer: calculate vector norm along given axis; <br> &emsp; if 2 ints in a tuple will calculate the matrix norm; <br> &emsp; if 'None', \"a\" must be either 1D or 2D. \n",
    "- a: input multi-dimensional array. \n",
    "\n",
    "<br>\n",
    "\n",
    "lin.det(a)   -> np.array \n",
    "> Return square matrix “a”’s determinant. \n",
    "- \"a\" must have shape (..., n, n). \n",
    "- Output \"np.array\" will have shape (...)\n",
    "\n",
    "<br>\n",
    "\n",
    "lin.matrix_rank(M)  -> np.array\n",
    ">   Return rank of matrix M\n",
    "- \"M\": has shape (..., m, n)\n",
    "- Output \"np.array\" has shape (...) \n",
    "\n",
    "<br>\n",
    "\n",
    "lin.trace(a, offset=0, axis1=0, axis2=1)   ->  np.array\n",
    "> Return the sum along diagonal of array(definition of matrix trace)\n",
    "- \"offset\": if $>0$: take upper-shifted diagonal. \n",
    "- \"axis1\"&\"axis2\": specifies 2 axes for which matrices to take from. \n",
    "\n",
    "<br>\n",
    "\n",
    "lin.inv(a)   ->   np.array\n",
    "> compute inverse of matrix “a”. \n",
    "- \"a\" must have shape (..., n, n)\n",
    "- Output \"np.array\" has shape (..., n, n)\n"
   ]
  },
  {
   "attachments": {},
   "cell_type": "markdown",
   "metadata": {},
   "source": [
    "### Linear Solver\n",
    "Recall linear equations can be written in matrix multiplication form. "
   ]
  },
  {
   "attachments": {},
   "cell_type": "markdown",
   "metadata": {},
   "source": [
    "lin.solve(a, b)   ->  np.array\n",
    "> solve equation ax=b and return “x”\n",
    "- “a, b” are variable matrix and vector, respectively. \n",
    "> Need to ensure shape consistency of matrix equations. Broadcasting is not supported, and \"a\" must be non-singular square matrix. \n",
    "\n",
    "<br>\n",
    "\n",
    "lin.lstsq(a, b)    ->   np.array\n",
    "> Find a best fit line for y=mx+c, as follows: <br>&emsp;\n",
    "Given a set of points{(x, y)}, generate “a” as follows: a = [x 1] (last col contains only 1),\n",
    "<br>&emsp;\n",
    "and solves equation  “y = ap”   where p is: [[m], [c]], by letting “a” = x, “b” = y. <br>\n",
    "\n",
    ">Returns “p” containing “m” and “c” for best fit line. \n"
   ]
  },
  {
   "attachments": {},
   "cell_type": "markdown",
   "metadata": {},
   "source": [
    "# Mathematical operations: \n"
   ]
  },
  {
   "attachments": {},
   "cell_type": "markdown",
   "metadata": {},
   "source": [
    "### Element-wise: \n"
   ]
  },
  {
   "attachments": {},
   "cell_type": "markdown",
   "metadata": {},
   "source": [
    "- Triginometry: <br> np.sin(np.array), np.cos(np.array), tan, arcsin, arccos, arctan, sinh, cosh, tang, arcsinh, arccosh, arctanh.<br>\n",
    "\n",
    "- Exponential & logarithmic: <br> np.exp(), exp2(), np.log(), log10(), log2()<br>\n",
    "\n",
    "- Degree & radian conversion: <br> np.degrees(), np.radians()<br>\n",
    "\n",
    "- Floor & Ceil: <br> np.floor(), np.ceil()<br>\n",
    "\n",
    "- Reciprocal: np.reciprocal(): returns 1/x, elementwise. <br>\n",
    "\n",
    "- np.sqrt(): square root <br>\n",
    "\n",
    "- np.absolute(): absolute value; <br>\n",
    "\n",
    "- np.sign(): \"-1\" for negative values and \"1\" for positive values, elementwise <br>"
   ]
  },
  {
   "attachments": {},
   "cell_type": "markdown",
   "metadata": {},
   "source": [
    "### Single Array Operations: \n",
    "Usually lead to dimension reduction. "
   ]
  },
  {
   "attachments": {},
   "cell_type": "markdown",
   "metadata": {},
   "source": [
    "np.(nan)max(np.array, axis=None, keepdim=False), np.(nan)min(np.array, axis=None, keepdim=False) -> np.array\n",
    "> Extract the max/min along \"axis\" of \"np.array\".\n",
    "- axis: cane be integer OR array of integers, possible to perform multi-dimensional operations\n",
    "- keepdims: if set to \"True\", will collapse the \"axis\" into size of \"1\". If 'False', the \"axis\" will all be eliminated. \n",
    "\n",
    "\n",
    "np.sum(np.array, axis=None, keepdims=False), np.prod(np.array, axis=None, keepdims=False) -> np.array\n",
    "> perform summation or product along \"axis\". \n",
    "<br> &emsp; if \"nan\" exist, will lead to \"nan\" result. Should use nansum/nanprod: see below. \n",
    "\n",
    "<br>\n",
    "\n",
    "np.cumsum(np.array, axis), np.cumprod(np.array, axis) -> np.array\n",
    "> perform cumulative sum along axis, but: <br> &emsp; every element along the required \"axis\" in the resulting array will be the sum/product of all previous elements. See below demo. \n",
    "\n",
    "<br>\n",
    "\n",
    "np.nansum(np.array, axis=None, keepdims=False), np.nanprod(np.array, axis=None, keepdims=False) -> np.array\n",
    "> perform exactly the same operation as above two functions, except \"nan\" values will be ignored. \n",
    "\n",
    "<br>\n",
    "\n",
    "np.nancumsum(np.array, axis), np.nancumprod(np.array, axis) -> np.array"
   ]
  },
  {
   "cell_type": "code",
   "execution_count": null,
   "metadata": {},
   "outputs": [],
   "source": [
    "# demo of np.cumsum and np.cumprod\n",
    "import numpy as np\n",
    "\n",
    "test_arr = np.arange(8).reshape(2, 4)\n",
    "print(np.cumsum(test_arr, axis=1))\n",
    "# 9=4+5, 15=4+5+6, ...\n",
    "print(np.cumprod(test_arr, axis=1))\n",
    "# 20=4*5, 120=4*5*6"
   ]
  },
  {
   "attachments": {},
   "cell_type": "markdown",
   "metadata": {},
   "source": [
    "### Multiple Array Arithmetic Operations: \n",
    "Require shape broadcastability between two arrays. "
   ]
  },
  {
   "attachments": {},
   "cell_type": "markdown",
   "metadata": {},
   "source": [
    "np.add/multiply/divide(array1, array2) -> np.array\n",
    "> Adding/Multiplying/Dividing array1 and array2's elements ELEMENTWISE. <br> &emsp; Require shape broadcastability\n",
    "\n",
    "<br>\n",
    "\n",
    "np.power(base_array, power_array) -> np.array\n",
    "> Create new array of exponentials with base from \"base_array\" and raise power to \"power_array\". <br> &emsp; Following shape broadcastability, and applied elementwise. \n"
   ]
  },
  {
   "attachments": {},
   "cell_type": "markdown",
   "metadata": {},
   "source": [
    "# Random Package"
   ]
  },
  {
   "attachments": {},
   "cell_type": "markdown",
   "metadata": {},
   "source": [
    "np.random.seed(x) -> None\n",
    "> initialize random state to integer \"x\". \n",
    "\n",
    "<br>\n",
    "\n",
    "np.random.Generator.integers(low, high=None, size=None, endpoint=False) -> np.array\n",
    "> Generate integers following a uniform distribution, from range \"low, high\"; \n",
    "- \"high\": if “high” is not given, digits will be generated from zero to “low”; \n",
    "- \"size\": tuple of output ndarray shape; will generate enough integers to fill the ndarray; \n",
    "    > if not given, will generate a single integer; \n",
    "- \"endpoint\": if True, “high” will be possible to generate; in other words, inclusive. \n",
    "\n",
    "<br>\n",
    "\n",
    "np.random.Generator.random(size=None, ) -> np.array\n",
    "> Generate float points in the interval [0.0, 1.0), following a uniform distribution; <br> &emsp; can use shift-and-scale to get any desired interval; "
   ]
  },
  {
   "attachments": {},
   "cell_type": "markdown",
   "metadata": {},
   "source": [
    "# Statistics: "
   ]
  },
  {
   "attachments": {},
   "cell_type": "markdown",
   "metadata": {},
   "source": [
    "np.median(input_arr, axis=None, overwrite_input=False, keepdims=False) -> np.array\n",
    "> return the median of \"input_arr\" along \"axis\". \n",
    "- \"axis\": as before, can also be tuple of integers. \n",
    "- \"keepdims\": as before, if 'True\", will collapse assigned axes in \"axis\" into size of 1, instead of completely eliminate the \"axis\" axes. \n",
    "\n",
    "<br>\n",
    "\n",
    "np.average(input_arr, axis=None, weights=None, keepdims=False) -> np.array\n",
    "> Calculating average according to optional \"weights\".\n",
    "- weights: for calculating weighted average. \n",
    "\t> Can be 1D array or with same shape as “input_arr”. Realizing the 1d shape must match with “input_arr AND axis”. \n",
    "\n",
    "<br>\n",
    "\n",
    "np.mean(input_arr, axis=None, keepdims=False, where=[]) -> np.array\n",
    "> Calculate equally-weighted average of “input_arr”. \n",
    "- \"where\": a boolean np.array having broadcastable shape as \"input_arr\". \n",
    "\t> If an element is 'False' in \"where\", the element will NOT be included in calculation. \n",
    "\n",
    "<br>\n",
    "\n",
    "np.std(input_arr, axis=None, ddof=0, keepdims=False, where=[]) -> np.array\n",
    "> Calculate AXIS-WISE elementwise standard deviation along an/multiple \"axis\" of \"input_arr\"\n",
    "- ddof: when calculating standard deviation, the denominator has the form “N-ddof”, where “N” is the sample amount. One example of using “ddof” is 1, “N-1”; \n",
    "\n",
    "<br>\n",
    "\n",
    "np.cov(input_arr, y=None, rowvar=True, bias=False, ddof=None, fweights=None, aweights=None,) -> np.array\n",
    "> Calculate the covariance of \"input_arr\", by treating either row/col as random variable. \n",
    "- \"input_arr\": 1D or 2D array. \n",
    "- \"rowvar\": When “rowvar” is True, will treat each row as a single variable, and each element in the row (column-wise) as an observation. (if False, then opposite.)\n",
    "- \"bias\": if 'True', the denominator of calculating std is 'N', instead of 'N-1' when \"bias=False\"\n",
    "- \"fweights\": frequency weights 1D vector; (currently not commonly used)\n",
    "- \"aweights\": 1D observation vector weights; (currently not commonly used)\n"
   ]
  }
 ],
 "metadata": {
  "kernelspec": {
   "display_name": "base",
   "language": "python",
   "name": "python3"
  },
  "language_info": {
   "codemirror_mode": {
    "name": "ipython",
    "version": 3
   },
   "file_extension": ".py",
   "mimetype": "text/x-python",
   "name": "python",
   "nbconvert_exporter": "python",
   "pygments_lexer": "ipython3",
   "version": "3.9.12"
  },
  "orig_nbformat": 4,
  "vscode": {
   "interpreter": {
    "hash": "7ee4894774477a24238113baff2abded6669c379dcd7e8c1e86c71db229a8bb6"
   }
  }
 },
 "nbformat": 4,
 "nbformat_minor": 2
}
